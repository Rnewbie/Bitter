{
 "cells": [
  {
   "cell_type": "code",
   "execution_count": 1,
   "metadata": {
    "collapsed": false
   },
   "outputs": [
    {
     "ename": "ERROR",
     "evalue": "Error in library(RCurl): there is no package called 'RCurl'\n",
     "output_type": "error",
     "traceback": [
      "Error in library(RCurl): there is no package called 'RCurl'\n"
     ]
    }
   ],
   "source": [
    "library(RCurl)"
   ]
  },
  {
   "cell_type": "code",
   "execution_count": 2,
   "metadata": {
    "collapsed": false
   },
   "outputs": [
    {
     "ename": "ERROR",
     "evalue": "Error in contrib.url(repos, type): trying to use CRAN without setting a mirror\n",
     "output_type": "error",
     "traceback": [
      "Error in contrib.url(repos, type): trying to use CRAN without setting a mirror\n"
     ]
    }
   ],
   "source": [
    "install.packages(\"RCurl\")"
   ]
  },
  {
   "cell_type": "code",
   "execution_count": 3,
   "metadata": {
    "collapsed": false
   },
   "outputs": [
    {
     "name": "stderr",
     "output_type": "stream",
     "text": [
      "Loading required package: RCurl\n",
      "Warning message:\n",
      "In library(package, lib.loc = lib.loc, character.only = TRUE, logical.return = TRUE, : there is no package called 'RCurl'also installing the dependency 'bitops'\n",
      "\n",
      "Warning message:\n",
      "In install.packages(\"RCurl\", repos = \"http://cran.rstudio.com/\"): installation of package 'RCurl' had non-zero exit status"
     ]
    },
    {
     "name": "stdout",
     "output_type": "stream",
     "text": [
      "\n",
      "The downloaded source packages are in\n",
      "\t'/private/var/folders/m4/j55x1ddj58b2jtmjppvcs5fr0000gr/T/RtmpZS325x/downloaded_packages'\n"
     ]
    },
    {
     "name": "stderr",
     "output_type": "stream",
     "text": [
      "Updating HTML index of packages in '.Library'\n",
      "Making 'packages.html' ... done\n"
     ]
    },
    {
     "ename": "ERROR",
     "evalue": "Error in library(\"RCurl\"): there is no package called 'RCurl'\n",
     "output_type": "error",
     "traceback": [
      "Error in library(\"RCurl\"): there is no package called 'RCurl'\n"
     ]
    }
   ],
   "source": [
    "if (!require(\"RCurl\")) {\n",
    "  install.packages(\"RCurl\", repos=\"http://cran.rstudio.com/\") \n",
    "  library(\"RCurl\")\n",
    "}"
   ]
  },
  {
   "cell_type": "code",
   "execution_count": 4,
   "metadata": {
    "collapsed": false
   },
   "outputs": [
    {
     "ename": "ERROR",
     "evalue": "Error in parse(text = x, srcfile = src): <text>:1:13: unexpected symbol\n1: !apt-get -y build\n                ^\n",
     "output_type": "error",
     "traceback": [
      "Error in parse(text = x, srcfile = src): <text>:1:13: unexpected symbol\n1: !apt-get -y build\n                ^\n"
     ]
    }
   ],
   "source": [
    "!apt-get -y build-dep libcurl4-gnutls-dev\n",
    "!apt-get -y install libcurl4-gnutls-dev"
   ]
  },
  {
   "cell_type": "code",
   "execution_count": 1,
   "metadata": {
    "collapsed": false
   },
   "outputs": [
    {
     "name": "stderr",
     "output_type": "stream",
     "text": [
      "Loading required package: bitops\n"
     ]
    }
   ],
   "source": [
    "library(RCurl)"
   ]
  },
  {
   "cell_type": "code",
   "execution_count": null,
   "metadata": {
    "collapsed": false
   },
   "outputs": [],
   "source": [
    "### get excel from github\n",
    "\n",
    "#library(XLConnect)\n",
    "#appURL <- \"https//raw.githubusercontent.com/Rnewbie/Bitter/master/Natural_Bitter_Taste.xlsx\"\n",
    "#f = CFILE(\"exfile.xlsx\", mode=\"wb\")\n",
    "#curlPerform(url = appURL, writedata = f@ref, ssl.verifypeer = FALSE)\n",
    "#close(f)\n",
    "#out <- readWorksheetFromFile(file = \"exfile.xls\", sheet = \"Sheet1\", header = TRUE\n",
    "                      #       , startRow = 11, startCol = 2, endCol = 15, endRow = 35)\n",
    "#head(out)\n",
    "#library(readxl)\n",
    "#data <- read_excel(\"exfile.xlsx\")\n",
    "### Uniprot ID for T2R\n",
    "uniprot_id <- c(\"Q9NYW7\", \"Q9NYW6\", \"Q9NYW5\", \"Q9NYW4\", \"Q9NYW3\", \"Q9NYW2\", \"Q9NYW1\", \"Q9NYW0\", \n",
    "                \"Q9NYV9\", \"Q9NYV8\", \"Q9NYV7\", \"P59533\", \"P59534\", \"P59535\", \"P59536\", \"Q7RTR8\", \n",
    "                \"P59537\", \"P59538\", \"P59539\", \"P59540\", \"P59541\", \"P59542\", \"P59543\", \"P59544\",\n",
    "                \"P59551\")\n",
    "\n",
    "### function for get FASTA for each recpetor\n",
    "get_T2R_fasta = function(x) {\n",
    "  URL = paste0(\"http://www.uniprot.org/uniprot/\",x, \n",
    "               \".fasta\")\n",
    "  text = RCurl::getURLAsynchronous(url = URL)\n",
    "  return(text)\n",
    "}\n",
    "\n",
    "t2r_fasta = get_T2R_fasta(uniprot_id)\n",
    "\n",
    "### write FASTA\n",
    "library(Biostrings)\n",
    "x <- AAStringSet(t2r_fasta)\n",
    "writeXStringSet(x, file = \"T2R.fasta\", width = 80)\n",
    "\n",
    "\n"
   ]
  },
  {
   "cell_type": "code",
   "execution_count": null,
   "metadata": {
    "collapsed": true
   },
   "outputs": [],
   "source": []
  }
 ],
 "metadata": {
  "kernelspec": {
   "display_name": "R",
   "language": "R",
   "name": "ir"
  },
  "language_info": {
   "codemirror_mode": "r",
   "file_extension": ".r",
   "mimetype": "text/x-r-source",
   "name": "R",
   "pygments_lexer": "r",
   "version": "3.2.2"
  }
 },
 "nbformat": 4,
 "nbformat_minor": 0
}
